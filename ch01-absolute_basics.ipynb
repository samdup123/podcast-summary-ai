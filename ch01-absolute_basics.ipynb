{
 "cells": [
  {
   "cell_type": "code",
   "execution_count": 14,
   "metadata": {},
   "outputs": [],
   "source": [
    "import os\n",
    "from langchain_openai import ChatOpenAI\n",
    "from dotenv import load_dotenv\n",
    "\n",
    "api_key = os.getenv(\"OPENAI_API_KEY\")"
   ]
  },
  {
   "cell_type": "code",
   "execution_count": 15,
   "metadata": {},
   "outputs": [
    {
     "data": {
      "text/plain": [
       "AIMessage(content=\"It sounds like you're looking for a way to cool off! Here are a few suggestions for places you might consider going on a hot day:\\n\\n1. **Beach or Lake**: Enjoy the sun and water. Swimming can help you cool down.\\n2. **Pool**: If you have access to a local pool, it’s a great place to relax and stay cool.\\n3. **Air-conditioned Mall**: Shopping or just browsing can be a fun way to escape the heat.\\n4. **Park with Shade**: If you want to be outdoors, look for a park with plenty of trees for shade.\\n5. **Ice Cream Shop**: Treat yourself to a cold treat while enjoying the day.\\n6. **Movie Theater**: Catch a film in the air conditioning.\\n7. **Museum or Gallery**: Enjoy some culture and stay cool indoors.\\n\\nWhere do you think you'd like to go?\", response_metadata={'token_usage': {'completion_tokens': 182, 'prompt_tokens': 19, 'total_tokens': 201}, 'model_name': 'gpt-4o-mini-2024-07-18', 'system_fingerprint': 'fp_661538dc1f', 'finish_reason': 'stop', 'logprobs': None}, id='run-ae5f2666-447c-42b9-b7de-e8e2b239f0b9-0', usage_metadata={'input_tokens': 19, 'output_tokens': 182, 'total_tokens': 201})"
      ]
     },
     "execution_count": 15,
     "metadata": {},
     "output_type": "execute_result"
    }
   ],
   "source": [
    "load_dotenv()\n",
    "\n",
    "# This works according to the book with GPT-3.5... not so much with 4o-mini\n",
    "# .invoke() sends the argument to the LLM object\n",
    "llm = ChatOpenAI(api_key=api_key, model_name=\"gpt-4o-mini\")\n",
    "llm.invoke(\"It's a hot day, I would like to go to the\")"
   ]
  },
  {
   "cell_type": "code",
   "execution_count": 16,
   "metadata": {},
   "outputs": [
    {
     "name": "stdout",
     "output_type": "stream",
     "text": [
      "Subject: Stay Alert: Protect Yourself from Phishing Attacks\n",
      "\n",
      "Dear Team,\n",
      "\n",
      "Just a quick reminder to remain vigilant against phishing attacks. Always verify the sender's email address, avoid clicking on suspicious links, and never share personal information unless you’re certain of the recipient's identity. If something seems off, trust your instincts and report it.\n",
      "\n",
      "Stay safe!\n",
      "\n",
      "Best,  \n",
      "[Your Name]\n"
     ]
    }
   ],
   "source": [
    "prompt_input = \"\"\"Write a short message to remind users to be\n",
    "viligant about phishing attacks.\"\"\"\n",
    "response = llm.invoke(prompt_input)\n",
    "\n",
    "print(response.content)"
   ]
  },
  {
   "cell_type": "code",
   "execution_count": 17,
   "metadata": {},
   "outputs": [
    {
     "name": "stdout",
     "output_type": "stream",
     "text": [
      "The Aqueduct of Segovia, a Roman marvel, transported water for centuries, symbolizing the city's heritage and UNESCO World Heritage status.\n"
     ]
    }
   ],
   "source": [
    "# Creating a prompt from a PromptTemplate\n",
    "# PromptTemplates are a class that allow you to invoke parameterize prompts\n",
    "from langchain_core.prompts import PromptTemplate\n",
    "\n",
    "segovia_aqueduct_text = \"The Aqueduct of Segovia (Spanish: Acueducto de Segovia) is a Roman aqueduct in Segovia, Spain. It was built around the first century AD to channel water from springs in the mountains 17 kilometres (11 mi) away to the city's fountains, public baths and private houses, and was in use until 1973. Its elevated section, with its complete arcade of 167 arches, is one of the best-preserved Roman aqueduct bridges and the foremost symbol of Segovia, as evidenced by its presence on the city's coat of arms. The Old Town of Segovia and the aqueduct, were declared a UNESCO World Heritage Site in 1985. As the aqueduct lacks a legible inscription (one was apparently located in the structure's attic, or top portion[citation needed]), the date of construction cannot be definitively determined. The general date of the Aqueduct's construction was long a mystery, although it was thought to have been during the 1st century AD, during the reigns of the Emperors Domitian, Nerva, and Trajan. At the end of the 20th century, Géza Alföldy deciphered the text on the dedication plaque by studying the anchors that held the now missing bronze letters in place. He determined that Emperor Domitian (AD 81–96) ordered its construction[1] and the year 98 AD was proposed as the most likely date of completion.[2] However, in 2016 archeological evidence was published which points to a slightly later date, after 112 AD, during the government of Trajan or in the beginning of the government of emperor Hadrian, from 117 AD.\"\n",
    "\n",
    "prompt_template = PromptTemplate.from_template(\n",
    "    \"You are an experienced copywriter. Write a {num_words} words summary the the following text, using a {tone} tone: {text}\"\n",
    ")\n",
    "\n",
    "prompt_input = prompt_template.format(\n",
    "    text=segovia_aqueduct_text, num_words=20, tone=\"knowledgeable and engaging\"\n",
    ")\n",
    "response = llm.invoke(prompt_input)\n",
    "print(response.content)"
   ]
  },
  {
   "cell_type": "code",
   "execution_count": 19,
   "metadata": {},
   "outputs": [
    {
     "name": "stdout",
     "output_type": "stream",
     "text": [
      "The Aqueduct of Segovia, a Roman marvel from the 1st century AD, remains a UNESCO World Heritage Site and symbol of Segovia.\n"
     ]
    }
   ],
   "source": [
    "# Creating and executing chains with LCEL\n",
    "# Chains allow you to pipe together sequences of LLM components\n",
    "# Example: `chain = web_scraping | prompt | llm_model | email_text`\n",
    "prompt_template = PromptTemplate.from_template(\n",
    "    \"You are an experienced copywriter. Write a {num_words} words summary of the following text, using a {tone} tone: {text}\"\n",
    ")\n",
    "llm = ChatOpenAI(api_key=api_key, model_name=\"gpt-4o-mini\")\n",
    "\n",
    "chain = prompt_template | llm\n",
    "\n",
    "# .invoke() chains just like you would .invoke() strings and PromptTemplates\n",
    "response = chain.invoke(\n",
    "    {\n",
    "        \"text\": segovia_aqueduct_text,\n",
    "        \"num_words\": 20,\n",
    "        \"tone\": \"knowledgeable and engaging\",\n",
    "    }\n",
    ")\n",
    "\n",
    "print(response.content)"
   ]
  }
 ],
 "metadata": {
  "kernelspec": {
   "display_name": "analytics",
   "language": "python",
   "name": "python3"
  },
  "language_info": {
   "codemirror_mode": {
    "name": "ipython",
    "version": 3
   },
   "file_extension": ".py",
   "mimetype": "text/x-python",
   "name": "python",
   "nbconvert_exporter": "python",
   "pygments_lexer": "ipython3",
   "version": "3.11.9"
  }
 },
 "nbformat": 4,
 "nbformat_minor": 2
}
